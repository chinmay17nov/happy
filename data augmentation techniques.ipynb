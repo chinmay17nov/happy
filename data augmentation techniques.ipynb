{
 "cells": [
  {
   "cell_type": "code",
   "execution_count": null,
   "id": "fcb7ccab",
   "metadata": {},
   "outputs": [],
   "source": [
    "#Data Augmentation\n",
    "from keras.preprocessing.image import ImageDataGenerator\n",
    "\n",
    "#Flipping\n",
    "datagen = ImageDataGenerator(\n",
    "    rotation_range=20,\n",
    "    width_shift_range=0.2,\n",
    "    height_shift_range=0.2,\n",
    "    horizontal_flip=True)\n",
    "\n",
    "#Rotation\n",
    "datagen = ImageDataGenerator(\n",
    "    rotation_range=20)\n",
    "\n",
    "#Transformation\n",
    "datagen = ImageDataGenerator(\n",
    "    width_shift_range=0.2,\n",
    "    height_shift_range=0.2)\n",
    "\n",
    "#Object Classification Algorithms\n",
    "#1.Random Forest\n",
    "from sklearn.ensemble import RandomForestClassifier\n",
    "\n",
    "#2.Support Vector Machine\n",
    "from sklearn import svm\n",
    "\n",
    "#Performance of Algorithms\n",
    "#Augmented Dataset\n",
    "#Random Forest\n",
    "rf_augmented = RandomForestClassifier(n_estimators=100)\n",
    "rf_augmented.fit(X_augmented, y_augmented)\n",
    "\n",
    "#Support Vector Machine\n",
    "svc_augmented = svm.SVC()\n",
    "svc_augmented.fit(X_augmented, y_augmented)\n",
    "\n",
    "#Original Dataset\n",
    "#Random Forest\n",
    "rf_original = RandomForestClassifier(n_estimators=100)\n",
    "rf_original.fit(X_original, y_original)\n",
    "\n",
    "#Support Vector Machine\n",
    "svc_original = svm.SVC()\n",
    "svc_original.fit(X_original, y_original)\n",
    "\n",
    "#Comparison Chart\n",
    "#Algorithm | Augmented Dataset | Original Dataset\n",
    "#--------- | ----------------- | ---------------\n",
    "#Random Forest | rf_augmented | rf_original\n",
    "#Support Vector Machine | svc_augmented | svc_original"
   ]
  },
  {
   "cell_type": "code",
   "execution_count": null,
   "id": "a4410d6b",
   "metadata": {},
   "outputs": [],
   "source": []
  }
 ],
 "metadata": {
  "kernelspec": {
   "display_name": "Python 3 (ipykernel)",
   "language": "python",
   "name": "python3"
  },
  "language_info": {
   "codemirror_mode": {
    "name": "ipython",
    "version": 3
   },
   "file_extension": ".py",
   "mimetype": "text/x-python",
   "name": "python",
   "nbconvert_exporter": "python",
   "pygments_lexer": "ipython3",
   "version": "3.9.7"
  }
 },
 "nbformat": 4,
 "nbformat_minor": 5
}
