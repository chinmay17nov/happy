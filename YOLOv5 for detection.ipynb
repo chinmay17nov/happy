{
 "cells": [
  {
   "cell_type": "code",
   "execution_count": null,
   "id": "939b7da3",
   "metadata": {},
   "outputs": [],
   "source": [
    "import os\n",
    "import cv2\n",
    "from labelImg import LabelImg\n",
    "from yolov5.models import Yolov5\n",
    "\n",
    "dataset_path = \"dataset/\"\n",
    "if not os.path.exists(dataset_path):\n",
    "    os.makedirs(dataset_path)\n",
    "\n",
    "for i in range(800):\n",
    "    image_path = dataset_path + 'image_' + str(i) + '.jpg'\n",
    "    image = cv2.imread(image_path)\n",
    "    cv2.imwrite(image_path, image)\n",
    "\n",
    "labelImg = LabelImg(dataset_path)\n",
    "labelImg.create_labels(['person', 'vehicle'])\n",
    "\n",
    "model = Yolov5()\n",
    "model.fit(dataset_path)\n",
    "\n",
    "mean_distances = []\n",
    "for i in range(800):\n",
    "    image_path = dataset_path + 'image_' + str(i) + '.jpg'\n",
    "    image = cv2.imread(image_path)\n",
    "    labels, boxes = model.predict(image)\n",
    "    if len(boxes[0]) > 0 and len(boxes[1]) > 0:\n",
    "        distances = []\n",
    "        for box1 in boxes[0]:\n",
    "            for box2 in boxes[1]:\n",
    "                dist = abs(box1[0] - box2[0]) + abs(box1[1] - box2[1])\n",
    "                distances.append(dist)\n",
    "        mean_distances.append(sum(distances) / len(distances))\n",
    "    else:\n",
    "        mean_distances.append(None)\n",
    "\n",
    "print(mean_distances)"
   ]
  }
 ],
 "metadata": {
  "kernelspec": {
   "display_name": "Python 3 (ipykernel)",
   "language": "python",
   "name": "python3"
  },
  "language_info": {
   "codemirror_mode": {
    "name": "ipython",
    "version": 3
   },
   "file_extension": ".py",
   "mimetype": "text/x-python",
   "name": "python",
   "nbconvert_exporter": "python",
   "pygments_lexer": "ipython3",
   "version": "3.9.7"
  }
 },
 "nbformat": 4,
 "nbformat_minor": 5
}
